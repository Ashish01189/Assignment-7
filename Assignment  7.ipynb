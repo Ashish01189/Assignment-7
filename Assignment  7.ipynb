{
  "metadata": {
    "kernelspec": {
      "name": "python",
      "display_name": "Python (Pyodide)",
      "language": "python"
    },
    "language_info": {
      "codemirror_mode": {
        "name": "python",
        "version": 3
      },
      "file_extension": ".py",
      "mimetype": "text/x-python",
      "name": "python",
      "nbconvert_exporter": "python",
      "pygments_lexer": "ipython3",
      "version": "3.8"
    }
  },
  "nbformat_minor": 5,
  "nbformat": 4,
  "cells": [
    {
      "id": "f31139d9-a106-48dd-9395-42321ae5e51c",
      "cell_type": "markdown",
      "source": "# Restful API & Flask",
      "metadata": {}
    },
    {
      "id": "c6cb5527-7bda-41d7-90e9-d56b407790a5",
      "cell_type": "code",
      "source": "# 1. What is a RESTful API?\n     # A RESTful API (Representational State Transfer API) in Python is a web service that follows REST principles, allowing clients to interact with a server using standard HTTP methods like GET, POST, PUT, and DELETE. It is commonly used for building web applications and services that expose data and functionality over the web.\n\n# Key Features of a RESTful API:\n    # 1. Stateless – Each request from a client to a server must contain all the necessary information, and the server should not store client state between requests.\n\n    # 2. Uses HTTP Methods – RESTful APIs use standard HTTP methods:\n        # a. GET → Retrieve data\n        # b. POST → Create new data\n        # c. PUT/PATCH → Update existing data\n        # d. DELETE → Remove data\n\n    # 3. Resource-Oriented – Data is treated as resources, each identified by a URL (Uniform Resource Locator).\n\n    # 4. JSON/XML Data Format – Typically, data is exchanged in JSON or XML format.\n\n    # 5. Stateless Communication – The server does not maintain session information about clients.\n\n# Building a RESTful API in Python\n    # Python provides several frameworks for building RESTful APIs. The most popular ones include:\n\n        # Flask (lightweight and flexible)\n        # FastAPI (high-performance and modern)\n        # Django REST Framework (DRF) (best for Django-based projects)\n\n# Example\nfrom flask import Flask, jsonify, request\n\napp = Flask(__name__)\n\nbooks = [\n    {\"id\": 1, \"title\": \"1984\", \"author\": \"George Orwell\"},\n    {\"id\": 2, \"title\": \"To Kill a Mockingbird\", \"author\": \"Harper Lee\"}\n]\n\n# GET all book\n@app.route('/books', methods=['GET'])\ndef get_books():\n    return jsonify(books)\n\n@app.route('/books/<int:book_id>', methods=['GET'])\ndef get_book(book_id):\n    book = next((b for b in books if b[\"id\"] == book_id), None)\n    return jsonify(book) if book else (\"Not Found\", 404)\n\n@app.route('/books', methods=['POST'])\ndef add_book():\n    new_book = request.json\n    books.append(new_book)\n    return jsonify(new_book), 201\n\n@app.route('/books/<int:book_id>', methods=['PUT'])\ndef update_book(book_id):\n    book = next((b for b in books if b[\"id\"] == book_id), None)\n    if book:\n        book.update(request.json)\n        return jsonify(book)\n    return (\"Not Found\", 404)\n\n@app.route('/books/<int:book_id>', methods=['DELETE'])\ndef delete_book(book_id):\n    global books\n    books = [b for b in books if b[\"id\"] != book_id]\n    return (\"\", 204)\n\nif __name__ == '__main__':\n    app.run(debug=True)\n\n# How it Works:\n        # a. GET /books → Returns a list of all books.\n        # b. GET /books/1 → Returns details of a book with id=1.\n        # c. POST /books → Adds a new book (JSON payload required).\n        # d. PUT /books/1 → Updates book with id=1.\n        # e. DELETE /books/1 → Deletes book with id=1.\n\n# When to Use Which Framework?\n    # 1. Flask → Best for small, simple APIs with flexibility.\n    # 2. FastAPI → Best for high-performance, async APIs.\n    # 3. Django REST Framework → Best for large, Django-based applications.",
      "metadata": {
        "trusted": true
      },
      "outputs": [],
      "execution_count": null
    },
    {
      "id": "73d7270b-7b28-45fc-afa0-aea10deee151",
      "cell_type": "code",
      "source": "# 2. Explain the concept of API specification?\n    # An API specification is a document or blueprint that defines how an API should behave, including details such as endpoints, request/response formats, authentication, and error handling. It serves as a contract between the API provider and the consumers (clients).\n\n# Key Elements of an API Specification\n    # 1. Endpoints & Routes – Defines available URLs and their purpose (e.g., /users, /orders/{id}).\n    # 2. HTTP Methods – Specifies which methods are supported (GET, POST, PUT, DELETE, etc.).\n    # 3. Request Parameters – Describes required and optional parameters for each request.\n    # 4. Request & Response Format – Defines the expected data structure (usually JSON or XML).\n    # 5. Authentication & Authorization – Specifies how users can access the API (OAuth, JWT, API keys).\n    # 6. Error Handling – Lists possible errors and corresponding HTTP status codes (e.g., 404 Not Found, 400 Bad Request).\n    # 7. Rate Limiting & Throttling – Defines restrictions on API usage to prevent abuse.\n\n# API Specification Formats\n    # Several standards help define and document API specifications:\n        # 1. OpenAPI (Swagger)\n            # a. OpenAPI Specification (OAS) is the most widely used standard for documenting REST APIs.\n            # b. It provides a structured way to describe an API, allowing auto-generation of client SDKs and documentation.\n\n# Example OpenAPI\nopenapi: 3.0.0\ninfo:\n  title: Books API\n  version: 1.0.0\npaths:\n  /books:\n    get:\n      summary: Get all books\n      responses:\n        \"200\":\n          description: A list of books\n          content:\n            application/json:\n              schema:\n                type: array\n                items:\n                  type: object\n                  properties:\n                    id:\n                      type: integer\n                    title:\n                      type: string\n                    author:\n                      type: string\n\n        2. RAML (RESTful API Modeling Language)\n            # a. Another YAML-based specification format.\n            # b. Similar to OpenAPI but more human-readable.\n\n        # 3. API Blueprint\n            # Markdown-based format for describing APIs.\n\n# Generating API Specification in Python\n    # Using FastAPI (Automatically Generates OpenAPI Docs)\n    # FastAPI automatically creates an OpenAPI-compliant specification.\n\nfrom fastapi import FastAPI\n\napp = FastAPI()\n\n@app.get(\"/books\")\ndef get_books():\n    return [{\"id\": 1, \"title\": \"1984\", \"author\": \"George Orwell\"}]\n\n# Using Flask with Flask-Swagger\nFor Flask, you can use Flask-Swagger or Flasgger:\n\nfrom flask import Flask, jsonify\nfrom flasgger import Swagger\n\napp = Flask(__name__)\nSwagger(app)\n\n@app.route('/books', methods=['GET'])\ndef get_books():\n    \"\"\"\n    Get all books\n    ---\n    responses:\n      200:\n        description: A list of books\n    \"\"\"\n    return jsonify([{\"id\": 1, \"title\": \"1984\"}])\n\nif __name__ == '__main__':\n    app.run(debug=True)\n\n# Why API Specification Matters?\n    # 1. Ensures consistency and standardization.\n    # 2. Simplifies integration for developers.\n    # 3. Enables auto-generation of documentation and SDKs.\n    # 4. Helps with versioning and maintaining APIs over time.",
      "metadata": {
        "trusted": true
      },
      "outputs": [],
      "execution_count": null
    },
    {
      "id": "c4e9ddf0-2d74-4f22-b2e2-9837aec00252",
      "cell_type": "code",
      "source": "# 3. What is Flask, and why is it popular for building APIs?\n    # Flask is a lightweight and flexible web framework for Python, used primarily to build web applications and RESTful APIs. It follows the WSGI (Web Server Gateway Interface) standard and is designed to be simple yet powerful, making it an excellent choice for both beginners and experienced developers.\n\n# Why is Flask Popular for Building APIs?\n    # Flask is widely used for API development because of several key advantages:\n\n        # 1. Lightweight & Minimalistic\n            # Unlike Django, which is a full-fledged web framework, Flask provides only the essential tools needed for web development.\n            # You can add only the components you need, keeping your application lean and efficient.\n\n        # 2. Easy to Learn and Use\n            # The framework has a simple, intuitive syntax, making it easy for beginners.\n\n# Example: A basic API endpoint in Flask:\nfrom flask import Flask\n\napp = Flask(__name__)\n\n@app.route('/')\ndef home():\n    return \"Hello, Flask!\"\n\nif __name__ == '__main__':\n    app.run(debug=True)\n\n    #  3. RESTful API Friendly\n        # Flask makes it easy to define GET, POST, PUT, and DELETE routes for building RESTful APIs.\n        # It supports JSON responses using Flask’s built-in jsonify() method.\n\n    # 4. Extensibility\n        # Flask allows you to integrate third-party extensions like:\n        # Flask-RESTful → Simplifies REST API creation.\n        # Flask-SQLAlchemy → Adds database support with SQLAlchemy ORM.\n        # Flask-JWT-Extended → Implements JWT authentication.\n        # Flask-Swagger → Auto-generates API documentation.\n\n    # 5. Asynchronous Support\n        # While Flask is synchronous by default, it can be integrated with async libraries like gevent or Quart for better performance.\n\n    # 6. Supports Middleware & Blueprints\n        # Blueprints allow modular API design, making it easier to build large applications.\n        # Middleware support helps with logging, authentication, and request processing.\n\n    # 7. Compatible with Any Database\n        # Works with SQL (PostgreSQL, MySQL, SQLite) and NoSQL (MongoDB, Firebase, Redis) databases.\n\n# Example\nfrom flask import Flask, jsonify, request\n\napp = Flask(__name__)\n\nbooks = [\n    {\"id\": 1, \"title\": \"1984\", \"author\": \"George Orwell\"},\n    {\"id\": 2, \"title\": \"Brave New World\", \"author\": \"Aldous Huxley\"}\n]\n\n@app.route('/books', methods=['GET'])\ndef get_books():\n    return jsonify(books)\n\n@app.route('/books/<int:book_id>', methods=['GET'])\ndef get_book(book_id):\n    book = next((b for b in books if b[\"id\"] == book_id), None)\n    return jsonify(book) if book else (\"Not Found\", 404)\n\n@app.route('/books', methods=['POST'])\ndef add_book():\n    new_book = request.json\n    books.append(new_book)\n    return jsonify(new_book), 201\n\n@app.route('/books/<int:book_id>', methods=['DELETE'])\ndef delete_book(book_id):\n    global books\n    books = [b for b in books if b[\"id\"] != book_id]\n    return (\"\", 204)\n\nif __name__ == '__main__':\n    app.run(debug=True)\n\n# How to Run the API\n    # 1. Install Flask:\npip install flask\n\n    # 2. Run the script:\npython app.py\n\n    # 3.Test the API:\n        # GET all books → http://127.0.0.1:5000/books\n        # GET a book by ID → http://127.0.0.1:5000/books/1\n        # POST a new book → Send JSON { \"id\": 3, \"title\": \"Dune\", \"author\": \"Frank Herbert\" }\n        # DELETE a book → http://127.0.0.1:5000/books/1\n\n# When to Use Flask for API Development?\n    # When building small to medium-sized APIs.\n    # When you need flexibility in choosing libraries.\n    # When working on microservices or serverless applications.\n    # When you need quick development with minimal overhead.",
      "metadata": {
        "trusted": true
      },
      "outputs": [],
      "execution_count": null
    },
    {
      "id": "c68c772c-668d-4df9-81b0-fad153052cf8",
      "cell_type": "code",
      "source": "# 4. What is routing in Flask?\n    # In Flask, routing is the process of mapping URLs (routes) to specific functions (view functions) that handle client requests. When a user visits a specific URL, Flask runs the corresponding function and returns a response.\n\n# How Routing Works in Flask\n    # Flask uses the @app.route() decorator to define routes.\n\n# Example\nfrom flask import Flask\n\napp = Flask(__name__)\n\n@app.route('/')\ndef home():\n    return \"Welcome to my Flask app!\"\n\nif __name__ == '__main__':\n    app.run(debug=True)\n\n# Types of Routes in Flask\n    # 1. Static Routes\n        # These are fixed URLs that always return the same response.\n@app.route('/about')\ndef about():\n    return \"This is the About Page!\"\n\n    # 2. Dynamic Routes\n        # Dynamic routes allow passing variables in the URL.\n@app.route('/user/<username>')\ndef greet_user(username):\n    return f\"Hello, {username}!\"\n\n    # 3. Multiple Routes for the Same Function\n        # A single function can handle multiple routes.\n@app.route('/')\n@app.route('/home')\ndef home():\n    return \"Welcome to the Home Page!\"\n\n    # 4. Handling HTTP Methods\n        # By default, Flask routes accept only GET requests. You can allow other methods using the methods argument.\n@app.route('/submit', methods=['GET', 'POST'])\ndef submit():\n    if request.method == 'POST':\n        return \"Form Submitted!\"\n    return \"Submit your form.\"\n\n# URL Building with url_for()\n    # Flask provides url_for() to generate URLs dynamically.\n\nfrom flask import url_for\n\n@app.route('/profile/<username>')\ndef profile(username):\n    return f\"User: {username}\"\n\nwith app.test_request_context():\n    print(url_for('profile', username='Alice'))\n\n# Why is Routing Important?\n    # Helps organize API endpoints and web pages.\n    # Supports dynamic URLs for personalized experiences.\n    # Allows different HTTP methods for CRUD operations.\n    # Makes URLs user-friendly and SEO-friendly.",
      "metadata": {
        "trusted": true
      },
      "outputs": [],
      "execution_count": null
    },
    {
      "id": "79c58362-2b2d-47f6-9a4b-cb4cbcab71f5",
      "cell_type": "code",
      "source": "# 5. How do you create a simple Flask application?\n    # A Flask application is easy to set up and run. Follow these steps to create a basic web app.\n\n# Step 1: Install Flask\n    # Before starting, install Flask using pip:\npip install flask\n\n# Step 2: Create a Flask Application\n    # Create a new Python file, e.g., app.py.\n    # Add the following basic Flask code:\n\n# Basic Flask App (Hello, World!)\nfrom flask import Flask\n\napp = Flask(__name__)\n\n@app.route('/')\ndef home():\n    return \"Hello, Flask!\"\n\nif __name__ == '__main__':\n    app.run(debug=True)\n\n# Step 3: Run the Flask App\n    # In your terminal, navigate to the project folder and run:\npython app.py\n\n# Step 4: Adding More Routes\n    # We can define multiple routes to handle different pages.\n@app.route('/about')\ndef about():\n    return \"This is the About Page\"\n\n@app.route('/user/<name>')\ndef greet_user(name):\n    return f\"Hello, {name}!\"\n\n# Step 5: Returning HTML Content\n    # Instead of plain text, Flask can return HTML content.\n@app.route('/html')\ndef html_page():\n    return \"\"\"<h1>Welcome!</h1>\n              <p>This is an HTML page.</p>\"\"\"\n\n# Step 6: Using Templates for Dynamic Pages\n    # Flask supports Jinja2 templates for rendering HTML pages dynamically.\n\n    # 1. Create a templates/ folder in your project.\n    # 2. Inside templates/,create an index.html file:\n\n<!DOCTYPE html>\n<html>\n<head>\n    <title>Flask App</title>\n</head>\n<body>\n    <h1>Welcome to Flask</h1>\n    <p>Hello, {{ name }}!</p>\n</body>\n</html>\n\n    # 3. from flask import render_template\n\n@app.route('/welcome/<name>')\ndef welcome(name):\n    return render_template('index.html', name=name)\n\n    # 4. Visit: http://127.0.0.1:5000/welcome/John → It will display \"Hello, John!\".\n\n# Step 7: Handling Forms (POST Requests)\n    # Flask can handle forms and user input.\n\n# 1️. Create a form.html file in the templates/ folder\n<form action=\"/submit\" method=\"POST\">\n    <input type=\"text\" name=\"name\" placeholder=\"Enter your name\">\n    <input type=\"submit\" value=\"Submit\">\n</form>\n\n# 2.  Modify app.py to handle form submission\nfrom flask import request\n\n@app.route('/submit', methods=['POST'])\ndef submit():\n    name = request.form['name']\n    return f\"Hello, {name}!\"\n\n# Step 8: Running the Flask App with Debug Mode\n    # For development, always enable debug mode:\npython app.py\n    or \nflask run\n\n# Next Steps\n    # Now that you have a basic Flask app, you can:\n        # 1. Connect to a database (SQLite, MySQL, MongoDB)\n        # 2. Create a REST API with Flask-RESTful\n        # 3. Use Flask-SQLAlchemy for ORM\n        # 4. Implement authentication (JWT, OAuth)\n        # 4. Deploy the app on Heroku, AWS, or DigitalOcean",
      "metadata": {
        "trusted": true
      },
      "outputs": [],
      "execution_count": null
    },
    {
      "id": "8867ef38-e557-4096-91db-396f9399079d",
      "cell_type": "code",
      "source": "# 6. What are HTTP methods used in RESTful APIs?\n    # In RESTful APIs, different HTTP methods are used to perform actions on resources. These methods allow clients to interact with the server and manage data efficiently.\n\n# 1️. GET – Retrieving Data\n    # The GET method is used to fetch data from the server. It is a read-only operation and does not modify any data.\n\n# Example: Retrieving all users from a database.\n@app.route('/users', methods=['GET'])\ndef get_users():\n    return jsonify(users)\n# 2️. POST – Creating a New Resource\n    # The POST method is used to create new resources on the server. The client sends data in the request body, and the server stores it.\n\n# Example: Adding a new user.\n@app.route('/users', methods=['POST'])\ndef create_user():\n    new_user = request.json\n    users.append(new_user)\n    return jsonify(new_user), 201\n# 3️. PUT – Updating an Entire Resource\n    # The PUT method is used to update an existing resource by completely replacing it with new data.\n\n# Example: Updating user details.\n@app.route('/users/<int:user_id>', methods=['PUT'])\ndef update_user(user_id):\n    updated_user = request.json\n    for user in users:\n        if user[\"id\"] == user_id:\n            user.update(updated_user)\n            return jsonify(user)\n    return \"User not found\", 404\n\n# 4️. PATCH – Partially Updating a Resource\n    # The PATCH method is used to update specific fields of a resource instead of replacing the entire record.\n\n# Example: Updating only the name of a user.\n@app.route('/users/<int:user_id>', methods=['PATCH'])\ndef patch_user(user_id):\n    data = request.json\n    for user in users:\n        if user[\"id\"] == user_id:\n            user.update(data)\n            return jsonify(user)\n    return \"User not found\", 404\n\n# 5️. DELETE – Removing a Resource\n    # The DELETE method is used to remove a resource from the server.\n\n# Example: Deleting a user by ID.\n@app.route('/users/<int:user_id>', methods=['DELETE'])\ndef delete_user(user_id):\n    global users\n    users = [user for user in users if user[\"id\"] != user_id]\n    return \"\", 204",
      "metadata": {
        "trusted": true
      },
      "outputs": [],
      "execution_count": null
    },
    {
      "id": "1e05fbe6-9c00-46a2-9a2b-76847c2b1d14",
      "cell_type": "code",
      "source": "# 7. What is the purpose of the @app.route() decorator in Flask?\n    # The @app.route() decorator in Flask is used to define the URL routes of a web application. It tells Flask which function should be executed when a specific URL is accessed.\n\n# How It Works\n    # In Flask, when a user visits a particular URL, the @app.route() decorator maps that URL to a specific Python function, known as a view function.\n\n# Example: Basic Route\nfrom flask import Flask\n\napp = Flask(__name__)\n\n@app.route('/')\ndef home():\n    return \"Welcome to Flask!\"\n\n# Defining Multiple Routes\n    # You can create multiple routes for different pages.\n@app.route('/about')\ndef about():\n    return \"This is the About Page\"\n\n# Dynamic Routes (Passing Parameters)\n    # Flask allows dynamic routes where parts of the URL can act as variables.\n@app.route('/user/<name>')\ndef greet(name):\n    return f\"Hello, {name}!\"\n\n    # We can also specify data types:\n@app.route('/user/<int:user_id>')\ndef show_user(user_id):\n    return f\"User ID: {user_id}\"\n\n# Handling Multiple Routes with One Function\n    # You can assign multiple URLs to the same function.\n@app.route('/')\n@app.route('/home')\ndef home():\n    return \"Welcome to Flask!\"\n# Using HTTP Methods\n    # By default, routes only accept GET requests. You can specify methods like POST, PUT, or DELETE.\n@app.route('/submit', methods=['POST'])\ndef submit():\n    return \"Form Submitted!\"\n\n# Summary\n    # @app.route() maps URLs to functions.\n    # Supports static and dynamic URLs.\n    # Can handle multiple routes per function.\n    # Can restrict to specific HTTP methods.",
      "metadata": {
        "trusted": true
      },
      "outputs": [],
      "execution_count": null
    },
    {
      "id": "7c11b5bf-9bc7-4d1d-aa45-350ff15dbbfc",
      "cell_type": "code",
      "source": "# 8. What is the difference between GET and POST HTTP methods?\n    # Both GET and POST are commonly used HTTP methods in RESTful APIs, but they serve different purposes and have key differences in how they handle data.\n\n# 1️. GET Method\n    # Purpose: Used to retrieve data from the server.\n    # Characteristics:\n        # Sends data via the URL (query parameters).\n        # Visible in the browser's address bar.\n        # Cached by browsers (can be stored for future use).\n        # Idempotent (multiple requests produce the same result).\n        # Typically used for reading data (e.g., fetching user details).\n\n# Example in Flask:\n@app.route('/user', methods=['GET'])\ndef get_user():\n    name = request.args.get('name')\n    return f\"User: {name}\"\n\n#  Example URL Request:\nGET /user?name=Alice\n\n# Response:\nUser: Alice\n\n# 2.  POST Method\n    # Purpose: Used to send data to the server (e.g., submitting a form, creating a new record).\n    \n# Characteristics:\n    # Sends data in the request body (not visible in the URL).\n    # Not cached by browsers.\n    # Non-idempotent (multiple requests can create multiple records).\n    # Used for writing data (e.g., submitting a form, adding a new user).\n\n# Example in Flask:\n@app.route('/user', methods=['POST'])\ndef create_user():\n    data = request.json\n    return f\"User {data['name']} created!\", 201\n\n# Example Request:\nPOST /user\nBody: {\"name\": \"Alice\"}\n\n# Response:\nUser Alice created!\n\n# Key Differences\n# 1. Data Visibility:\n    # GET sends data via URL (query string).\n    # POST sends data in the request body (hidden from the URL).\n\n# 2. Use Case:\n    # GET is for retrieving data (safe, read-only).\n    # POST is for creating or submitting data.\n\n# 3. Security:\n    # GET is less secure (parameters visible in URL, stored in browser history).\n    # POST is more secure (data sent in body, not stored in history).\n\n# 4. Caching:\n    # GET requests can be cached.\n    # POST requests are not cached.\n\n# 5. Idempotency:\n    # GET is idempotent (repeated requests return the same data).\n    # POST is not idempotent (repeated requests may create multiple records).\n\n# When to Use GET vs POST?\n    # Use GET when:\n        # You want to retrieve data.\n        # The request does not modify data.\n        # The data can be cached for faster access.\n\n    # Use POST when:\n        # You want to submit data to the server.\n        # The request modifies or creates data.\n        # Data should not be visible in the URL for security reasons.",
      "metadata": {
        "trusted": true
      },
      "outputs": [],
      "execution_count": null
    },
    {
      "id": "d3d978cb-c889-4ec6-9650-dbf3bc5d3004",
      "cell_type": "code",
      "source": "# 9. How do you handle error in Flask APIs?\n    # Handling errors properly in a Flask API is crucial for providing meaningful feedback to clients while maintaining security. Here’s a structured way to do it:\n\n# 1. Using abort() for HTTP Errors\n    # Flask provides abort() to send error responses with a specific status code.\nfrom flask import Flask, abort\n\napp = Flask(__name__)\n\n@app.route('/protected')\ndef protected():\n    abort(403)\n\n# 2. Using errorhandler() Decorator\n# You can define custom error handlers using the @app.errorhandler decorator.\nfrom flask import jsonify\n\n@app.errorhandler(404)\ndef not_found(error):\n    return jsonify({\"error\": \"Resource not found\"}), 404\n\n@app.errorhandler(500)\ndef internal_server_error(error):\n    return jsonify({\"error\": \"Something went wrong\"}), 500\n\n# 3. Handling Errors Globally\n    # For a more scalable approach, handle multiple error types in a generic error handler.\n@app.errorhandler(Exception)\ndef handle_exception(e):\n    response = {\n        \"error\": str(e),\n        \"type\": e.__class__.__name__\n    }\n    return jsonify(response), 500\n\n# 4. Using Flask's abort() with Custom Messages\n    # You can pass JSON responses with abort().\nfrom flask import abort, jsonify\n\n@app.route('/custom_abort')\ndef custom_abort():\n    abort(jsonify({\"error\": \"Custom error message\"}), 400)\n\n# 5. Creating a Custom Exception Class\n    # For more structured error handling, define custom exceptions.\nclass APIError(Exception):\n    def __init__(self, message, status_code):\n        super().__init__(message)\n        self.message = message\n        self.status_code = status_code\n\n@app.errorhandler(APIError)\ndef handle_api_error(error):\n    response = jsonify({\"error\": error.message})\n    return response, error.status_code\n\n@app.route('/raise_error')\ndef raise_error():\n    raise APIError(\"This is a custom API error\", 400)\n\n# 6. Handling werkzeug Exceptions\n    # werkzeug.exceptions provides built-in HTTP exceptions.\nfrom werkzeug.exceptions import BadRequest, NotFound\n\n@app.route('/bad_request')\ndef bad_request():\n    raise BadRequest(\"Invalid request data\")\n\n@app.route('/not_found')\ndef not_found():\n    raise NotFound(\"The requested resource was not found\")\n\n# 7. Logging Errors for Debugging\n    # Logging helps debug errors in production.\nimport logging\n\nlogging.basicConfig(filename='error.log', level=logging.ERROR)\n\n@app.errorhandler(Exception)\ndef handle_all_errors(e):\n    logging.error(f\"Error: {str(e)}\")\n    return jsonify({\"error\": \"An unexpected error occurred\"}), 500",
      "metadata": {
        "trusted": true
      },
      "outputs": [],
      "execution_count": null
    },
    {
      "id": "1a3a92bc-d8c2-4ab9-8f73-103dbbaf0855",
      "cell_type": "code",
      "source": "# 10. How do you connect Flask to a SQL database?\n    # Connecting Flask to a SQL database in Python is typically done using Flask-SQLAlchemy, an extension that simplifies database operations. Here’s a step-by-step guide:\n\n# 1. Install Flask-SQLAlchemy\n    # If you haven’t installed it yet, run:\n\npip install flask-sqlalchemy\n\n# 2. Configure Flask with SQLAlchemy\n    # First, import and initialize SQLAlchemy in your Flask app.\n\nfrom flask import Flask\nfrom flask_sqlalchemy import SQLAlchemy\n\napp = Flask(__name__)\n\napp.config['SQLALCHEMY_DATABASE_URI'] = 'sqlite:///database.db'\napp.config['SQLALCHEMY_TRACK_MODIFICATIONS'] = False\n\ndb = SQLAlchemy(app)\n\n# 3. Define a Database Model\n    # Create a model representing a table in your database.\n\nclass User(db.Model):\n    id = db.Column(db.Integer, primary_key=True)\n    name = db.Column(db.String(100), nullable=False)\n    email = db.Column(db.String(120), unique=True, nullable=False)\n\n    def __repr__(self):\n        return f'<User {self.name}>'\n\n# 4. Create the Database\n    # Run the following commands to initialize the database:\n\n    with app.app_context():\n    db.create_all()\n\n# 5. Insert Data into the Database\n    # To add a new user:\n\n    with app.app_context():\n    new_user = User(name=\"John Doe\", email=\"john@example.com\")\n    db.session.add(new_user)\n    db.session.commit()\n\n# 6. Query Data from the Database\n    # Retrieve users from the database:\n\n    with app.app_context():\n    users = User.query.all()\n    for user in users:\n        print(user.name, user.email)\n\n# 7. Update & Delete Data\n    # Update a Record\n\n    with app.app_context():\n    user = User.query.filter_by(name=\"John Doe\").first()\n    user.email = \"john.doe@example.com\"\n    db.session.commit()\n\n    # Delete a Record\n\n    with app.app_context():\n    user = User.query.filter_by(name=\"John Doe\").first()\n    db.session.delete(user)\n    db.session.commit()\n\n# 8. Integrate with Flask Routes\n    # Here’s an example of a simple API:\n\n    from flask import request, jsonify\n\n@app.route('/users', methods=['GET'])\ndef get_users():\n    users = User.query.all()\n    return jsonify([{\"id\": user.id, \"name\": user.name, \"email\": user.email} for user in users])\n\n@app.route('/users', methods=['POST'])\ndef add_user():\n    data = request.get_json()\n    new_user = User(name=data['name'], email=data['email'])\n    db.session.add(new_user)\n    db.session.commit()\n    return jsonify({\"message\": \"User added successfully\"}), 201\n# 9. Use Migrations (Flask-Migrate) for Schema Changes\n    # For schema changes, use Flask-Migrate:\n     pip install flask-migrate\n\n    # Initialize Migrations\n    from flask_migrate import Migrate\n\nmigrate = Migrate(app, db)\n\n    # Run Migrations\nflask db init\nflask db migrate -m \"Initial migration\"\nflask db upgrade\n",
      "metadata": {
        "trusted": true
      },
      "outputs": [],
      "execution_count": null
    },
    {
      "id": "4966040a-434a-44f9-9de9-926929e5bc4e",
      "cell_type": "code",
      "source": "# 11. What is the role of Flask-SQLAlchemy?\n    # Flask-SQLAlchemy is an extension for Flask that simplifies database interactions by integrating SQLAlchemy, a powerful Object-Relational Mapper (ORM). It allows developers to work with databases using Python objects instead of raw SQL queries.\n\n# Key Roles and Benefits\n    # 1. Object-Relational Mapping (ORM) Flask-SQLAlchemy converts Python classes into database tables, eliminating the need to write raw SQL queries. Instead of manually executing SQL commands like INSERT INTO users (name) VALUES ('John');, you define a model and use Python to interact with the database.\nclass User(db.Model):\n    id = db.Column(db.Integer, primary_key=True)\n    name = db.Column(db.String(100), nullable=False)\n\nnew_user = User(name=\"John\")\ndb.session.add(new_user)\ndb.session.commit()\n\n    # 2. Database Abstraction Flask-SQLAlchemy supports multiple databases such as SQLite, PostgreSQL, and MySQL. You can switch databases just by modifying the SQLALCHEMY_DATABASE_URI configuration without changing any other code.\n\n    # 3. Simplified CRUD Operations It provides an easy way to perform Create, Read, Update, and Delete (CRUD) operations:\n        # Adding a record:\nuser = User(name=\"Alice\")\ndb.session.add(user)\ndb.session.commit()\n\n        # Fetching records:\nusers = User.query.all()\n\n        # Updating a record:\nuser = User.query.filter_by(name=\"Alice\").first()\nuser.name = \"Alicia\"\ndb.session.commit()\n\n        # Deleting a record:\ndb.session.delete(user)\ndb.session.commit()\n\n    # 4. Migrations with Flask-Migrate Database schemas change over time, and manually altering tables can be error-prone. Flask-SQLAlchemy works well with Flask-Migrate, allowing developers to modify database schemas without losing data.\n\n    # 5. Session Management It efficiently manages database transactions, ensuring that changes are committed properly. If an error occurs during a transaction, SQLAlchemy can automatically rollback changes to maintain data integrity.\n\n    # 6. Query Optimization Flask-SQLAlchemy allows you to write optimized queries using its query builder. For example, filtering users by name:\nusers = User.query.filter(User.name.like(\"%John%\")).all()\n\n    # 7. Security Using an ORM helps prevent SQL Injection attacks by escaping input values. For example, querying users securely:\nuser = User.query.filter_by(id=1).first()\n\n# Why Use Flask-SQLAlchemy Instead of Raw SQL?\n    # Flask-SQLAlchemy improves code readability, enhances security, simplifies database migrations, and allows easy switching between databases. Instead of handling low-level SQL operations manually, developers can focus on writing cleaner and more maintainable code.",
      "metadata": {
        "trusted": true
      },
      "outputs": [],
      "execution_count": null
    },
    {
      "id": "ed7b6b3a-8ae6-4f1c-9f88-a8987e30f9cf",
      "cell_type": "code",
      "source": "# 12. What are Flask blueprints,and they useful?\n    # Flask Blueprints are a way to organize a Flask application into smaller, reusable modules. They help break down a large application into manageable pieces, making it easier to maintain and scale.\n\n# What Are Flask Blueprints?\n    # A Blueprint in Flask is like a mini-application that can define routes, templates, static files, and middleware independently of the main Flask app. Instead of defining all routes and logic in a single app.py file, you can create separate blueprints for different features or sections of your application.\n\n# Why Use Blueprints?\n    # 1. Modularity – Helps separate different parts of an application (e.g., authentication, admin panel, API routes).\n    # 2. Code Organization – Makes the project cleaner and easier to navigate.\n    # 3. Reusability – You can reuse blueprints across multiple projects.\n    # 4. Collaboration – Useful for large teams working on different modules simultaneously. \n\n# How to Use Flask Blueprints?\n    # 1. Create a Blueprint\n        # Inside your Flask project, create a separate module (folder) for the blueprint. For example, let's create an auth blueprint for authentication.\n\n/my_flask_app\n│── app.py\n│── auth/\n│   ├── __init__.py\n│   ├── routes.py\n│   ├── templates/\n│   ├── static/\n\n    # 2. Define the Blueprint\n        # Inside auth/routes.py:\n\nfrom flask import Blueprint, render_template\n\nauth = Blueprint('auth', __name__, template_folder='templates')\n\n@auth.route('/login')\ndef login():\n    return render_template('login.html')\n\n@auth.route('/logout')\ndef logout():\n    return \"You have been logged out\"\n\n    # 3. Register the Blueprint in the Main App\n        # Modify app.py to include the blueprint:\n    \nfrom flask import Flask\nfrom auth.routes import auth\n\napp = Flask(__name__)\n\napp.register_blueprint(auth, url_prefix='/auth')\n\nif __name__ == \"__main__\":\n    app.run(debug=True)",
      "metadata": {
        "trusted": true
      },
      "outputs": [],
      "execution_count": null
    },
    {
      "id": "2925c5fe-e0f6-4474-b534-82c2b84846df",
      "cell_type": "code",
      "source": "# 13. What is the purpose of Flask's request object?\n    # The request object in Flask is used to handle incoming HTTP requests. It contains all the data sent by a client (such as a web browser or API consumer) when making a request to the server.\n\n# Purpose of the request Object\n    # The request object allows you to:\n        # 1. Access form data (e.g., user inputs from an HTML form).\n        # 2. Retrieve query parameters from a URL (e.g., ?search=flask).\n        # 3. Handle JSON data sent in an API request.\n        # 4. Get HTTP headers (e.g., authentication tokens, content type).\n        # 5. Handle file uploads.\n        # 6. Determine the request method (GET, POST, PUT, DELETE, etc.).\n\n# Using request in Flask\n    # First, you need to import it from flask:\n\nfrom flask import Flask, request\n\napp = Flask(__name__)\n\n@app.route('/data', methods=['GET', 'POST'])\ndef handle_data():\n    if request.method == 'POST':\n        form_data = request.form['name']  # Get form data\n        return f\"Received: {form_data}\"\n\n    return \"Send a POST request with form data.\"\n\nif __name__ == '__main__':\n    app.run(debug=True)\n\n# Common Attributes of request\n    # 1. Getting Form Data (POST)\n\nname = request.form['name']  # Access form field with key \"name\"\n\n    # 2. Getting Query Parameters (GET)\n\nsearch = request.args.get('query')  # URL: /search?query=flask\n\n    # 3. Handling JSON Data (API)\n\ndata = request.get_json()  # Expecting JSON in the request body\n\n    # 4. Getting Request Headers\n\nuser_agent = request.headers.get('User-Agent')\n\n    # 5. Handling File Uploads\n\nfile = request.files['file']\nfile.save('uploads/' + file.filename)\n\n    # 6. Getting Request Method\n\nif request.method == 'POST':\n    print(\"Handling a POST request\")\n\n# Example: Handling Different Data Types\n\n@app.route('/submit', methods=['POST'])\ndef submit():\n    form_data = request.form.get('name')\n    query_param = request.args.get('id')\n    json_data = request.get_json()\n    return f\"Form: {form_data}, Query: {query_param}, JSON: {json_data}\"",
      "metadata": {
        "trusted": true
      },
      "outputs": [],
      "execution_count": null
    },
    {
      "id": "304a5846-ee27-4786-b76c-99aadfb62feb",
      "cell_type": "code",
      "source": "# 14. How do you creat a RESTful API endpoint using Flask?\n    # Flask makes it easy to create RESTful API endpoints using the Flask class and the request object.\n\n# 1. Install Flask (if not already installed)\n\npip install flask\n\n# 2. Basic RESTful API Example\n    # Create a file called app.py and add the following code:\n\nfrom flask import Flask, request, jsonify\n\napp = Flask(__name__)\n\nusers = [\n    {\"id\": 1, \"name\": \"Alice\"},\n    {\"id\": 2, \"name\": \"Bob\"}\n]\n\n@app.route('/users', methods=['GET'])\ndef get_users():\n    return jsonify(users)\n\n@app.route('/users/<int:user_id>', methods=['GET'])\ndef get_user(user_id):\n    user = next((u for u in users if u[\"id\"] == user_id), None)\n    if user:\n        return jsonify(user)\n    return jsonify({\"error\": \"User not found\"}), 404\n\n@app.route('/users', methods=['POST'])\ndef create_user():\n    data = request.get_json()\n    if not data or \"name\" not in data:\n        return jsonify({\"error\": \"Invalid input\"}), 400\n\n    new_user = {\"id\": len(users) + 1, \"name\": data[\"name\"]}\n    users.append(new_user)\n    return jsonify(new_user), 201\n\n@app.route('/users/<int:user_id>', methods=['PUT'])\ndef update_user(user_id):\n    user = next((u for u in users if u[\"id\"] == user_id), None)\n    if not user:\n        return jsonify({\"error\": \"User not found\"}), 404\n\n    data = request.get_json()\n    if not data or \"name\" not in data:\n        return jsonify({\"error\": \"Invalid input\"}), 400\n\n    user[\"name\"] = data[\"name\"]\n    return jsonify(user)\n\n@app.route('/users/<int:user_id>', methods=['DELETE'])\ndef delete_user(user_id):\n    global users\n    users = [u for u in users if u[\"id\"] != user_id]\n    return jsonify({\"message\": \"User deleted\"}), 200\n\nif __name__ == '__main__':\n    app.run(debug=True)\n\n# 3. Testing the API\n    # You can test the API using Postman, cURL, or the Python requests module.\n    # Fetch All Users (GET)\n\ncurl -X GET http://127.0.0.1:5000/users\n\n    # Fetch a Single User (GET)\n\ncurl -X GET http://127.0.0.1:5000/users/1\n\n    # Add a New User (POST)\n\ncurl -X POST http://127.0.0.1:5000/users -H \"Content-Type: application/json\" -d '{\"name\": \"Charlie\"}'\n\n    # Update a User (PUT)\n\ncurl -X PUT http://127.0.0.1:5000/users/1 -H \"Content-Type: application/json\" -d '{\"name\": \"Alice Updated\"}'\n\n    # Delete a User (DELETE)\n\ncurl -X DELETE http://127.0.0.1:5000/users/1\n",
      "metadata": {
        "trusted": true
      },
      "outputs": [],
      "execution_count": null
    },
    {
      "id": "6dd26f15-89d8-4217-844f-ac3c69f97075",
      "cell_type": "code",
      "source": "# 15. What is the purpose of Flask's jsonify() function?\n    # The jsonify() function in Flask is used to convert Python data structures (like dictionaries and lists) into a proper JSON response that can be returned from a Flask route.\n\n# Purpose of jsonify()\n    # 1. Converts Python data (dict, list, etc.) to JSON format.\n    # 2. Automatically sets the correct Content-Type header (application/json).\n    # 3. Handles Unicode characters properly.\n    # 4. Supports JSON formatting for API responses.\n\n# Basic Example\nfrom flask import Flask, jsonify\n\napp = Flask(__name__)\n\n@app.route('/json')\ndef return_json():\n    data = {\"message\": \"Hello, Flask!\", \"status\": \"success\"}\n    return jsonify(data)\n\nif __name__ == '__main__':\n    app.run(debug=True)\n\n# Why Use jsonify() Instead of return dict?\n    # You might think returning a dictionary directly works in Flask:\n\n@app.route('/wrong')\ndef wrong_way():\n    return {\"message\": \"Hello, Flask!\"}\n\n# While Flask will still return JSON, it's not the recommended way because:\n    # jsonify() ensures proper JSON formatting.\n    # It automatically sets the application/json header.\n    # It handles encoding issues (e.g., Unicode characters).\n    # It's more consistent with Flask’s best practices.3\n\n# Example: Returning JSON from a REST API\n\nfrom flask import Flask, jsonify\n\napp = Flask(__name__)\n\nusers = [\n    {\"id\": 1, \"name\": \"Alice\"},\n    {\"id\": 2, \"name\": \"Bob\"}\n]\n\n@app.route('/users', methods=['GET'])\ndef get_users():\n    return jsonify(users)\n\nif __name__ == '__main__':\n    app.run(debug=True)\n\n# Response (/users endpoint)\n\n[\n    {\"id\": 1, \"name\": \"Alice\"},\n    {\"id\": 2, \"name\": \"Bob\"}\n]\n\n# Handling HTTP Status Codes with jsonify()\n    # You can also return custom HTTP status codes using jsonify():\n\n@app.route('/error')\ndef error():\n    return jsonify({\"error\": \"Resource not found\"}), 404  # Return JSON + 404 status\n\n# Response (/error endpoint)\n\n{\n    \"error\": \"Resource not found\"\n}",
      "metadata": {
        "trusted": true
      },
      "outputs": [],
      "execution_count": null
    },
    {
      "id": "d7d93f23-83ee-49f3-8022-994855cadaa3",
      "cell_type": "code",
      "source": "# 16. Explain Flask's url_for() function.\n    # The url_for() function in Flask is used to dynamically generate URLs for routes in a Flask application. Instead of hardcoding URLs, you use url_for() to ensure that URLs are correctly generated and updated automatically if route names or structures change.\n\n# Why Use url_for()?\n    # 1. Avoid hardcoding URLs – If you change a route, you don't have to update multiple places in your code.\n    # 2. More readable and maintainable code – Improves flexibility and structure.\n    # 3. Handles URL changes automatically – Works even if the app is deployed with a different base URL.\n    # 4. Supports dynamic URLs with arguments – Generates URLs with query parameters and route variables.\n\n# Basic Example\nfrom flask import Flask, url_for\n\napp = Flask(__name__)\n\n@app.route('/')\ndef home():\n    return \"Welcome to the Home Page!\"\n\n@app.route('/profile/<username>')\ndef profile(username):\n    return f\"Hello, {username}!\"\n\n@app.route('/generate-url')\ndef generate_url():\n    home_url = url_for('home')\n    profile_url = url_for('profile', username='JohnDoe')\n    return f\"Home URL: {home_url} <br> Profile URL: {profile_url}\"\n\nif __name__ == '__main__':\n    app.run(debug=True)\n\n# How url_for() Works\n    # 1. Generating a Simple URL\nurl_for('home')\n\n    # 2. Generating a URL with Route Variables\nurl_for('profile', username='JohnDoe')\n\n    # 3. Adding Query Parameters\nurl_for('profile', username='JohnDoe', ref='google')\n\n    # 4. Using url_for() in Templates\n        # In HTML templates, url_for() is commonly used inside Jinja2:\n<a href=\"{{ url_for('home') }}\">Home</a>\n<a href=\"{{ url_for('profile', username='Alice') }}\">Alice's Profile</a>\n\n    # 5. Generating URLs for Static Files\nurl_for('static', filename='css/style.css')\n\n# Why url_for() is Better Than Hardcoding URLs\n    # Hardcoded URL (Bad Practice):\n<a href=\"/profile/JohnDoe\">Profile</a>\n\n        # If the route /profile/<username> changes, you must update all links manually.\n\n    #  Using url_for() (Best Practice):\n<a href=\"{{ url_for('profile', username='JohnDoe') }}\">Profile</a>\n\n        # If the route changes, url_for() updates URLs dynamically.",
      "metadata": {
        "trusted": true
      },
      "outputs": [],
      "execution_count": null
    },
    {
      "id": "07f50e02-94b7-45e0-8cba-160ec1a356d5",
      "cell_type": "code",
      "source": "# 17. How does Flask handle static files (CSS, JavaScript, etc.)?\n    # Flask serves static files like CSS, JavaScript, and images from the static/ folder. The framework automatically looks for static files in this directory and makes them accessible via the /static/ URL path.\n\n# 1. Organizing Static Files in Flask\n    # A common Flask project structure looks like this:\n\n/my_flask_app\n│── app.py\n│── /static\n│   ├── css/\n│   │   ├── style.css\n│   ├── js/\n│   │   ├── script.js\n│   ├── images/\n│   │   ├── logo.png\n│── /templates\n│   ├── index.html\n\n# 2. Serving Static Files in HTML Using url_for()\n    # To properly reference static files in HTML templates, use url_for('static', filename='path/to/file').\n\n# Example HTML (index.html):\n\n'''<!DOCTYPE html>\n<html lang=\"en\">\n<head>\n    <meta charset=\"UTF-8\">\n    <meta name=\"viewport\" content=\"width=device-width, initial-scale=1.0\">\n    <title>Flask Static Files</title>\n    <link rel=\"stylesheet\" href=\"{{ url_for('static', filename='css/style.css') }}\">\n    <script src=\"{{ url_for('static', filename='js/script.js') }}\"></script>\n</head>\n<body>\n    <h1>Welcome to Flask Static File Demo</h1>\n    <img src=\"{{ url_for('static', filename='images/logo.png') }}\" alt=\"Logo\">\n</body>\n</html>\n'''\n# 3. Example Flask App Serving Static Files\n    # Create a simple app.py:\n\nfrom flask import Flask, render_template\n\napp = Flask(__name__)\n\n@app.route('/')\ndef home():\n    return render_template('index.html')\n\nif __name__ == '__main__':\n    app.run(debug=True)\n\n\n# 4. Example Static Files\n    # CSS (static/css/style.css)\n\n'''body {\n    background-color: #f4f4f4;\n    font-family: Arial, sans-serif;\n    text-align: center;\n}\nh1 {\n    color: blue;\n}\n'''\n\n# JavaScript (static/js/script.js)\n'''document.addEventListener(\"DOMContentLoaded\", function() {\n    console.log(\"JavaScript is loaded!\");\n});\n'''\n\n# 5. Manually Serving Static Files\n    # Although Flask automatically serves files from the /static/ directory, you can serve them manually if needed.\n\n# Example:\n\nfrom flask import send_from_directory\n\n@app.route('/uploads/<filename>')\ndef uploaded_file(filename):\n    return send_from_directory('uploads', filename)",
      "metadata": {
        "trusted": true
      },
      "outputs": [],
      "execution_count": null
    },
    {
      "id": "16b09c7a-7087-4f45-a50d-a2dda8df0582",
      "cell_type": "code",
      "source": "# 18. What is an API specification, and how does it help in building a Flask API?\n    # An API specification is a detailed document that defines how an API should function. It describes the available endpoints, request parameters, response formats, authentication methods, and error handling. API specifications ensure consistency, interoperability, and ease of integration between clients and servers.\n\n# Why is an API Specification Important?\n    # 1. Standardization: Ensures all developers follow the same rules when building or consuming the API.\n    # 2. Interoperability: Allows different systems (web, mobile, third-party apps) to interact seamlessly.\n    # 3. Documentation: Helps developers understand how to use the API correctly.\n    # 4. Testing & Validation: Enables automated testing and contract validation.\n\n# Common API Specification Formats\n    # 1. OpenAPI (Swagger) – Most widely used for REST APIs\n    # 2. RAML (RESTful API Modeling Language) – YAML-based, used in enterprise environments\n    # 3. GraphQL Schema – Defines data structures and queries for GraphQL APIs\n    # 4. API Blueprint – Markdown-based specification\n\n# How an API Specification Helps in Building a Flask API\n    # 1. When developing a Flask API, using an API specification provides:\n    # 2. A clear structure for endpoints, parameters, and responses\n    # 3. Automatic documentation with tools like Swagger UI\n    # 4. Consistency across different API versions\n    # 5. Easier debugging and integration with front-end apps\n\n# Example: Flask API with OpenAPI (Swagger)\n    # Flask can integrate with Swagger to automatically generate API documentation.\n    # To do this, we use Flask-RESTful and Flasgger.\n\n# Step 1: Install Required Packages\npip install flask flask-restful flasgger\n\n# Step 2: Create a Flask API with OpenAPI Specification\nfrom flask import Flask, request, jsonify\nfrom flask_restful import Api, Resource\nfrom flasgger import Swagger\n\napp = Flask(__name__)\napi = Api(app)\nswagger = Swagger(app)\n\nusers = [\n    {\"id\": 1, \"name\": \"Alice\"},\n    {\"id\": 2, \"name\": \"Bob\"}\n]\n\nclass UserList(Resource):\n    def get(self):\n        \"\"\"\n        Get all users\n        ---\n        responses:\n          200:\n            description: A list of users\n            schema:\n              type: array\n              items:\n                type: object\n                properties:\n                  id:\n                    type: integer\n                  name:\n                    type: string\n        \"\"\"\n        return jsonify(users)\n\n    def post(self):\n        \"\"\"\n        Create a new user\n        ---\n        parameters:\n          - name: name\n            in: formData\n            type: string\n            required: true\n            description: The name of the user\n        responses:\n          201:\n            description: User created\n        \"\"\"\n        data = request.get_json()\n        new_user = {\"id\": len(users) + 1, \"name\": data[\"name\"]}\n        users.append(new_user)\n        return jsonify(new_user), 201\n\napi.add_resource(UserList, '/users')\n\nif __name__ == '__main__':\n    app.run(debug=True)\n\n# Step 3: Access Swagger Documentation\n    # 1. Run the Flask app (python app.py)\n    # 2. Open http://127.0.0.1:5000/apidocs/ in a browser\n    # 3. You will see an interactive Swagger UI that describes and allows testing of the API\n\n# Benefits of Using API Specifications in Flask\n    # 1. Auto-generated documentation for developers\n    # 2. Easier API testing with Swagger UI\n    # 3. Faster development by following a predefined contract\n    # 4. Consistency in API structure",
      "metadata": {
        "trusted": true
      },
      "outputs": [],
      "execution_count": null
    },
    {
      "id": "4856cf0c-6dcf-421b-b50a-a9bb63235f00",
      "cell_type": "code",
      "source": "# 19. What are the HTTP status codes, and why are they important in Flask API?\n    # HTTP status codes are standardized response codes that indicate the result of a client's request to a server. They help both clients and developers understand the outcome of an API request and handle errors effectively.\n\n# Common HTTP Status Code Categories\n    # HTTP status codes are categorized into five groups:\n\n        # 1 (Informational) – Request received and continuing processing.\n\n        # 2 (Success) – Request was successful.\n\n            # 200 OK – The request succeeded (default for GET requests).\n            # 201 Created – A new resource was successfully created (commonly used for POST requests).\n            # 204 No Content – The request was successful but there is no content to return.\n\n        # 3 (Redirection) – Further action needed.\n\n            # 301 Moved Permanently – The resource has been moved to a new URL.\n            # 302 Found – Temporary redirect to another URL.\n\n        # 4 (Client Errors) – Issues with the client's request.\n\n            # 400 Bad Request – The request was malformed or invalid.\n            # 401 Unauthorized – Authentication required.\n            # 403 Forbidden – The client does not have permission.\n            # 404 Not Found – The requested resource does not exist.\n            # 405 Method Not Allowed – The request method (e.g., POST, GET) is not supported.\n\n        # 5 (Server Errors) – Issues with the server processing the request.\n\n            # 500 Internal Server Error – Generic server error.\n            # 502 Bad Gateway – Invalid response from an upstream server.\n            # 503 Service Unavailable – Server is down or overloaded.\n# Why Are HTTP Status Codes Important in a Flask API?\n    # 1. Clear Communication – Helps clients understand what happened with their request.\n    # 2. Error Handling – Clients can programmatically handle errors based on the response codes.\n    # 3. Debugging – Makes it easier to troubleshoot API issues.\n    # 4. REST API Best Practices – Proper status codes make your API more user-friendly and standards-compliant.\n\n# Using HTTP Status Codes in Flask\n    # Flask allows you to return HTTP status codes easily:\n\nfrom flask import Flask, jsonify\n\napp = Flask(__name__)\n\n@app.route('/success')\ndef success():\n    return jsonify(message=\"Success\"), 200\n\n@app.route('/not_found')\ndef not_found():\n    return jsonify(error=\"Resource not found\"), 404\n\n@app.route('/create', methods=['POST'])\ndef create():\n    return jsonify(message=\"Resource created\"), 201\n\nif __name__ == '__main__':\n    app.run(debug=True)\n",
      "metadata": {
        "trusted": true
      },
      "outputs": [],
      "execution_count": null
    },
    {
      "id": "ccd5ad0d-c33e-4ad2-b333-5cb34979dee3",
      "cell_type": "code",
      "source": "# 20. How do you handle POST requests in Flask?\n    # In Flask, a POST request is used to send data to the server, often for creating or updating resources. Here's how you handle POST requests effectively.\n\n# 1. Basic POST Request Handling\n    # Flask provides the request object to access incoming request data.\n\n# Example: Handling a Simple POST Request\nfrom flask import Flask, request, jsonify\n\napp = Flask(__name__)\n\n@app.route('/submit', methods=['POST'])\ndef handle_post():\n    data = request.json\n    return jsonify({\"message\": \"Data received\", \"data\": data}), 201\n\nif __name__ == '__main__':\n    app.run(debug=True)\n\n# 2. Handling Form Data\n    # If the data is sent using form encoding (e.g., application/x-www-form-urlencoded), use request.form:\n\n    @app.route('/submit-form', methods=['POST'])\ndef handle_form():\n    name = request.form.get('name')\n    email = request.form.get('email')\n    return jsonify({\"message\": \"Form received\", \"name\": name, \"email\": email}), 200\n\n# 3. Handling File Uploads\n    # Flask can handle file uploads using request.files:\n\n@app.route('/upload', methods=['POST'])\ndef upload_file():\n    if 'file' not in request.files:\n        return jsonify({\"error\": \"No file uploaded\"}), 400\n    \n    file = request.files['file']\n    file.save(f\"./uploads/{file.filename}\")  # Save file\n    return jsonify({\"message\": \"File uploaded successfully\", \"filename\": file.filename}), 200\n\n# 4. Handling Headers and Custom Responses\n    # You can also read custom headers and send custom responses:\n\n@app.route('/custom-header', methods=['POST'])\ndef custom_header():\n    auth_token = request.headers.get('Authorization')  # Get custom header\n    if not auth_token:\n        return jsonify({\"error\": \"Unauthorized\"}), 401\n    \n    return jsonify({\"message\": \"Access granted\"}), 200\n\n# 5. Validating Incoming Data\n    # Always validate data to prevent errors or security issues:\n\n@app.route('/validate', methods=['POST'])\ndef validate_data():\n    data = request.json\n    if not data or 'name' not in data:\n        return jsonify({\"error\": \"Missing 'name' field\"}), 400\n    return jsonify({\"message\": f\"Hello, {data['name']}!\"}), 200\n\n# 6. Testing a POST Request\n    # You can test POST endpoints using:\n        # 1. Postman – A GUI tool to send requests.\n        # 2. cURL – A command-line tool:\n\ncurl -X POST http://127.0.0.1:5000/submit -H \"Content-Type: application/json\" -d '{\"name\": \"John\"}'\n\n# Python requests module:\nimport requests\nresponse = requests.post(\"http://127.0.0.1:5000/submit\", json={\"name\": \"John\"})\nprint(response.json())",
      "metadata": {
        "trusted": true
      },
      "outputs": [],
      "execution_count": null
    },
    {
      "id": "303b316e-5c0a-46d7-aa85-e30b161ff7f5",
      "cell_type": "code",
      "source": "# 21. How would you secure a Flask API?\n    # When building a Flask API, security is crucial to protect sensitive data, prevent unauthorized access, and ensure system integrity. Here are the best practices for securing a Flask API:\n\n# 1. Use HTTPS\n    # Always use HTTPS instead of HTTP to encrypt data in transit.\n    # Flask itself doesn’t provide HTTPS, but you can use Gunicorn, NGINX, or Apache with an SSL certificate.\n\n# Example (if using Flask’s built-in server for development):\napp.run(ssl_context=('cert.pem', 'key.pem'))\n\n# 2. Authentication & Authorization\n    # a. API Key Authentication\n    # Require an API key for requests:\n\nfrom flask import request, jsonify\n\nAPI_KEY = \"your-secure-api-key\"\n\n@app.before_request\ndef require_api_key():\n    key = request.headers.get(\"X-API-KEY\")\n    if key != API_KEY:\n        return jsonify({\"error\": \"Unauthorized\"}), 401\n\n    # b. JWT (JSON Web Tokens) for Authentication\n    # JWTs allow secure authentication without storing session data on the server.\n\nfrom flask import request\nimport jwt\nimport datetime\n\nSECRET_KEY = \"your_secret_key\"\n\ndef generate_token(user_id):\n    payload = {\"user_id\": user_id, \"exp\": datetime.datetime.utcnow() + datetime.timedelta(hours=1)}\n    return jwt.encode(payload, SECRET_KEY, algorithm=\"HS256\")\n\ndef verify_token(token):\n    try:\n        return jwt.decode(token, SECRET_KEY, algorithms=[\"HS256\"])\n    except jwt.ExpiredSignatureError:\n        return None\n\n# 3. Secure User Input (Prevent SQL Injection, XSS, etc.)\n    # a. Use Parameterized Queries\n    # Never directly concatenate user input into SQL queries.\n\nimport sqlite3\n\nconn = sqlite3.connect(\"database.db\")\ncursor = conn.cursor()\ncursor.execute(\"SELECT * FROM users WHERE username = ?\", (user_input,))\n\n    # b. Sanitize User Input\n    # For preventing Cross-Site Scripting (XSS), always sanitize input.\n\nfrom markupsafe import escape\n\n@app.route('/search')\ndef search():\n    user_input = request.args.get(\"query\")\n    return f\"Searching for {escape(user_input)}\"\n\n# 4. Rate Limiting\n    # Prevent abuse and brute-force attacks using Flask-Limiter:\n\nfrom flask_limiter import Limiter\n\nlimiter = Limiter(app, key_func=lambda: request.remote_addr)\n\n@app.route('/login', methods=['POST'])\n@limiter.limit(\"5 per minute\")\ndef login():\n    return jsonify({\"message\": \"Login request\"})\n\n# 5. Enable CORS (Cross-Origin Resource Sharing) Safely\n    # Use Flask-CORS to control API access from different domains:.\n\nfrom flask_cors import CORS\n\nCORS(app, resources={r\"/api/*\": {\"origins\": \"https://trusted-domain.com\"}})\n\n# 6. Secure Session Management\n    # Set secure cookies to prevent session hijacking:\n\napp.config.update(\n    SESSION_COOKIE_HTTPONLY=True,\n    SESSION_COOKIE_SECURE=True,\n    SESSION_COOKIE_SAMESITE='Lax'\n)\n\n# 7. Protect Against CSRF (Cross-Site Request Forgery)\n    # Use Flask-WTF for CSRF protection:\n\nfrom flask_wtf.csrf import CSRFProtect\n\ncsrf = CSRFProtect(app)\n\n# 8. Log & Monitor API Activity\n    # Enable logging for suspicious activity:\nimport logging\n\nlogging.basicConfig(filename=\"app.log\", level=logging.INFO)\n\n@app.before_request\ndef log_request_info():\n    logging.info(f\"Request: {request.method} {request.url}\")\n\n# 9. Use Secure Headers\n    # Set security headers using Flask-Talisman:\n\nfrom flask_talisman import Talisman\n\nTalisman(app, content_security_policy=None)  # Adjust as needed\n\n# 10. Keep Dependencies Updated\n    # Regularly update Flask and dependencies:\n\npip install --upgrade flask\n\n    # Use pip-audit to find vulnerabilities:\n\npip install pip-audit\npip-audit\n",
      "metadata": {
        "trusted": true
      },
      "outputs": [],
      "execution_count": null
    },
    {
      "id": "839a6f6e-e47d-4355-9295-5c69121a1e6e",
      "cell_type": "code",
      "source": "# 22. What is the significance of the Flask-RESTful extension?\n    # Flask-RESTful is an extension for Flask that simplifies building REST APIs by providing an organized structure and reducing boilerplate code. It enhances Flask’s capabilities by introducing a more object-oriented approach to defining API endpoints.\n\n# Key Benefits of Flask-RESTful\n    # 1. Simplifies API Development\n        # Flask-RESTful introduces a class-based structure for defining resources, making API development cleaner and more manageable.\n\n# Example:\nfrom flask import Flask\nfrom flask_restful import Resource, Api\n\napp = Flask(__name__)\napi = Api(app)\n\nclass HelloWorld(Resource):\n    def get(self):\n        return {\"message\": \"Hello, World!\"}\n\napi.add_resource(HelloWorld, '/')\n\nif __name__ == '__main__':\n    app.run(debug=True)\n\n# 2. Built-in Support for HTTP Methods\n    # Flask-RESTful automatically maps HTTP methods (GET, POST, PUT, DELETE) to class methods.\n\n# Example:\nclass User(Resource):\n    def get(self, user_id):\n        return {\"user_id\": user_id, \"name\": \"John Doe\"}\n\n    def post(self, user_id):\n        return {\"message\": f\"User {user_id} created\"}, 201\n\napi.add_resource(User, '/user/<int:user_id>')\n\n# 3. Automatic Request Parsing\n    # Flask-RESTful provides reqparse, which simplifies input validation and error handling.\n\n# Example:\nfrom flask_restful import reqparse\n\nparser = reqparse.RequestParser()\nparser.add_argument(\"name\", type=str, required=True, help=\"Name cannot be blank\")\n\nclass User(Resource):\n    def post(self):\n        args = parser.parse_args()\n        return {\"message\": f\"User {args['name']} created\"}, 201\n\napi.add_resource(User, \"/user\")\n\n# 4. Better Error Handling\n    # Flask-RESTful provides built-in exception handling and standardized error responses.\n\n# Example:\nfrom flask_restful import abort\n\nusers = {1: \"Alice\", 2: \"Bob\"}\n\nclass User(Resource):\n    def get(self, user_id):\n        if user_id not in users:\n            abort(404, message=\"User not found\")\n        return {user_id: users[user_id]}\n\napi.add_resource(User, \"/user/<int:user_id>\")\n\n# 5. JSON Serialization Support\n    # Since Flask-RESTful is designed for APIs, all responses are automatically converted to JSON.\n\n# Example:\nclass User(Resource):\n    def get(self):\n        return {\"name\": \"Alice\", \"age\": 30}\n\napi.add_resource(User, \"/user\")\n\n# 6. Supports Method Chaining and Nested Resources\n    # For hierarchical APIs, Flask-RESTful makes it easy to structure nested resources.\n\n# Example:\nclass Book(Resource):\n    def get(self, book_id):\n        return {\"book_id\": book_id, \"title\": \"Flask API Design\"}\n\nclass Author(Resource):\n    def get(self, author_id):\n        return {\"author_id\": author_id, \"name\": \"John Doe\"}\n\napi.add_resource(Book, \"/book/<int:book_id>\")\napi.add_resource(Author, \"/author/<int:author_id>\")\n\n# When to Use Flask-RESTful?\n    # Best for:\n        # Medium to large Flask APIs with multiple endpoints.\n        # When you need better request parsing and validation.\n        # If you prefer class-based views for cleaner code.\n\n    # Avoid if:\n        # You are building a small API with only a few endpoints.\n        # You prefer Flask’s default function-based routes.",
      "metadata": {
        "trusted": true
      },
      "outputs": [],
      "execution_count": null
    },
    {
      "id": "3f1ac35f-306a-4ad3-b357-34038e03212e",
      "cell_type": "code",
      "source": "# 23. What is the role of Flask's session object?\n\n# Flask's session object is used to store data that is specific to a user across multiple requests. It is essentially a way to maintain state in a stateless HTTP protocol. Here’s what it does:\n\n# Key Features of session in Flask\n    # 1. Stores User-Specific Data\n        # Used to keep track of user-related data (e.g., login state, preferences) across multiple requests.\n\n    # 2. Built on Cookies\n        # The session data is stored on the client-side in a cookie, but it is cryptographically signed to prevent tampering.\n\n    # 3. Uses Secure Signing with SECRET_KEY\n        # Flask signs the session cookie with a secret key to ensure data integrity.\n\n# Example:\nfrom flask import Flask, session\n\napp = Flask(__name__)\napp.secret_key = 'your_secret_key'\n\n@app.route('/set_session')\ndef set_session():\n    session['username'] = 'Alice'\n    return \"Session data set!\"\n\n@app.route('/get_session')\ndef get_session():\n    return f\"Logged in as {session.get('username', 'Guest')}\"\n\n    # 4. Supports Server-Side Session Storage (Optional)\n        # By default, Flask uses client-side sessions (stored in cookies). However, you can configure server-side storage using Flask extensions like:\n        # Flask-Session (stores session data in Redis, databases, etc.)\n\n    # 5. Session Expiration & Security\n        # Sessions can have expiration times and can be cleared manually.\n\n# Example of clearing a session:\nsession.pop('username', None)\n\n# When to Use Flask's session\n    # Maintaining user authentication states.\n    # Storing temporary user-specific data.\n    # Tracking user interactions during a session.",
      "metadata": {
        "trusted": true
      },
      "outputs": [],
      "execution_count": null
    },
    {
      "id": "39525aa5-05d6-4edc-9434-655956aeeb06",
      "cell_type": "markdown",
      "source": "# Practical",
      "metadata": {}
    },
    {
      "id": "599f47a5-0bc6-41d8-ad4f-c2ca14cf79ec",
      "cell_type": "code",
      "source": "# 1. How do you create a basic Flask application?\n\nfrom flask import Flask\n\napp = Flask(__name__)\n\n@app.route('/')\ndef home():\n    return \"Hello, Flask! Welcome to my web app.\"\n\n@app.route('/about')\ndef about():\n    return \"This is a basic Flask application.\"\n\nif __name__ == '__main__':\n    app.run(debug=True)",
      "metadata": {
        "trusted": true
      },
      "outputs": [],
      "execution_count": null
    },
    {
      "id": "fddae5dc-fe90-44bf-99b8-1c519dd8228b",
      "cell_type": "code",
      "source": "# 2. How do you serve static files like images or CSS in Flask?\n\nfrom flask import Flask, send_from_directory\n\napp = Flask(__name__)\n\n@app.route('/static/<path:filename>')\ndef serve_static_file(filename):\n    return send_from_directory('static', filename)\n\n@app.route('/')\ndef home():\n    return '''\n    <html>\n        <head>\n            <link rel=\"stylesheet\" type=\"text/css\" href=\"/static/styles.css\">\n        </head>\n        <body>\n            <h1>Welcome to Flask Static Files Demo</h1>\n            <img src=\"/static/image.jpg\" alt=\"Flask Image\">\n        </body>\n    </html>\n    '''\n\nif __name__ == '__main__':\n    app.run(debug=True)\n",
      "metadata": {
        "trusted": true
      },
      "outputs": [],
      "execution_count": null
    },
    {
      "id": "1f45055a-5fa4-4182-ac14-9292fce5f501",
      "cell_type": "code",
      "source": "# 3. How do you define different routes with different HTTP methods in Flask?\n\nfrom flask import Flask, request\n\napp = Flask(__name__)\n\n@app.route('/')\ndef home():\n    return \"Welcome to the Flask Routing Example!\"\n\n@app.route('/greet', methods=['GET', 'POST'])\ndef greet():\n    if request.method == 'POST':\n        return \"Hello! You sent a POST request.\"\n    return \"Hello! This is a GET request.\"\n\n@app.route('/user', methods=['GET', 'POST', 'PUT', 'DELETE'])\ndef user():\n    if request.method == 'GET':\n        return \"Fetching user details...\"\n    elif request.method == 'POST':\n        return \"Creating a new user...\"\n    elif request.method == 'PUT':\n        return \"Updating user details...\"\n    elif request.method == 'DELETE':\n        return \"Deleting user...\"\n\nif __name__ == '__main__':\n    app.run(debug=True)\n",
      "metadata": {
        "trusted": true
      },
      "outputs": [],
      "execution_count": null
    },
    {
      "id": "58d545b7-dd49-42fb-91c9-3e50b01b1afb",
      "cell_type": "code",
      "source": "# 4. How do you render HTML templates in Flask?\n\nfrom flask import Flask, render_template\n\napp = Flask(__name__)\n\n@app.route('/')\ndef home():\n    return render_template('index.html', title=\"Home Page\")\n\n@app.route('/about')\ndef about():\n    return render_template('about.html', title=\"About Us\")\n\nif __name__ == '__main__':\n    app.run(debug=True)\n",
      "metadata": {
        "trusted": true
      },
      "outputs": [],
      "execution_count": null
    },
    {
      "id": "9a981d55-f974-4ff1-b520-5741083be817",
      "cell_type": "code",
      "source": "# 5. How can you generate URLs for routes in Flask using url_for?\n\nfrom flask import Flask, url_for, render_template\n\napp = Flask(__name__)\n\n@app.route('/')\ndef home():\n    return f'''\n    <h1>Welcome to Flask!</h1>\n    <p>Navigate using generated URLs:</p>\n    <ul>\n        <li><a href=\"{url_for('about')}\">About Page</a></li>\n        <li><a href=\"{url_for('user', username='Alice')}\">User Profile (Alice)</a></li>\n    </ul>\n    '''\n\n@app.route('/about')\ndef about():\n    return \"<h1>About Page</h1>\"\n\n@app.route('/user/<username>')\ndef user(username):\n    return f\"<h1>Welcome, {username}!</h1>\"\n\nif __name__ == '__main__':\n    app.run(debug=True)\n",
      "metadata": {
        "trusted": true
      },
      "outputs": [],
      "execution_count": null
    },
    {
      "id": "7d5c64fd-f208-4a7c-9a74-c07cc16ab36d",
      "cell_type": "code",
      "source": "# 6. How do you handle forms in Flask?\n\nfrom flask import Flask, render_template, request\n\napp = Flask(__name__)\n\n@app.route('/', methods=['GET', 'POST'])\ndef form():\n    if request.method == 'POST':\n        name = request.form['name']\n        email = request.form['email']\n        return render_template('result.html', name=name, email=email)\n    return render_template('form.html')\n\nif __name__ == '__main__':\n    app.run(debug=True)\n",
      "metadata": {
        "trusted": true
      },
      "outputs": [],
      "execution_count": null
    },
    {
      "id": "c812fc35-42fe-4c64-b42d-ef0545422daf",
      "cell_type": "code",
      "source": "# 7. How can you validate form data in Flak?\n\nfrom flask import Flask, render_template, request, flash, redirect, url_for\nfrom flask_wtf import FlaskForm\nfrom wtforms import StringField, EmailField, SubmitField\nfrom wtforms.validators import DataRequired, Email, Length\n\napp = Flask(__name__)\napp.secret_key = 'your_secret_key'\n\nclass UserForm(FlaskForm):\n    name = StringField('Name', validators=[DataRequired(), Length(min=2, max=50)])\n    email = EmailField('Email', validators=[DataRequired(), Email()])\n    submit = SubmitField('Submit')\n\n@app.route('/', methods=['GET', 'POST'])\ndef form():\n    form = UserForm()\n    if form.validate_on_submit():\n        name = form.name.data\n        email = form.email.data\n        return render_template('result.html', name=name, email=email)\n    return render_template('form.html', form=form)\n\nif __name__ == '__main__':\n    app.run(debug=True)\n",
      "metadata": {
        "trusted": true
      },
      "outputs": [],
      "execution_count": null
    },
    {
      "id": "f53423aa-9eee-4066-92df-781982ae61ad",
      "cell_type": "code",
      "source": "# 8. How do you manage sessions in Flask?\n\nfrom flask import Flask, session, redirect, url_for, request, render_template\n\napp = Flask(__name__)\napp.secret_key = 'your_secret_key'\n\n@app.route('/')\ndef home():\n    if 'username' in session:\n        return f\"Welcome {session['username']}! <br> <a href='/logout'>Logout</a>\"\n    return \"You are not logged in. <a href='/login'>Login</a>\"\n\n@app.route('/login', methods=['GET', 'POST'])\ndef login():\n    if request.method == 'POST':\n        session['username'] = request.form['username']\n        return redirect(url_for('home'))\n    return '''\n        <form method=\"post\">\n            Username: <input type=\"text\" name=\"username\" required><br><br>\n            <input type=\"submit\" value=\"Login\">\n        </form>\n    '''\n\n@app.route('/logout')\ndef logout():\n    session.pop('username', None)\n    return redirect(url_for('home'))\n\nif __name__ == '__main__':\n    app.run(debug=True)\n",
      "metadata": {
        "trusted": true
      },
      "outputs": [],
      "execution_count": null
    },
    {
      "id": "47962891-8ada-4af1-92ff-f2cfa80cbd84",
      "cell_type": "code",
      "source": "# 9. How do you redirect to a different route in Flask?\n\nfrom flask import Flask, redirect, url_for\n\napp = Flask(__name__)\n\n@app.route('/')\ndef home():\n    return \"Welcome to the Home Page! <a href='/login'>Go to Login</a>\"\n\n@app.route('/login')\ndef login():\n    return redirect(url_for('dashboard'))\n\n@app.route('/dashboard')\ndef dashboard():\n    return \"Welcome to your Dashboard!\"\n\nif __name__ == '__main__':\n    app.run(debug=True)\n",
      "metadata": {
        "trusted": true
      },
      "outputs": [],
      "execution_count": null
    },
    {
      "id": "2e35e726-3a48-4a77-95fc-d82f440b6a02",
      "cell_type": "code",
      "source": "# 10. How do you handle errors in Flask (e.g. 404)?\n\nfrom flask import Flask, render_template\n\napp = Flask(__name__)\n\n@app.route('/')\ndef home():\n    return \"Welcome to the Home Page! <a href='/invalid'>Go to Invalid Page</a>\"\n\n@app.errorhandler(404)\ndef page_not_found(error):\n    return render_template('404.html'), 404\n\n@app.errorhandler(500)\ndef internal_server_error(error):\n    return render_template('500.html'), 500\n\nif __name__ == '__main__':\n    app.run(debug=True)\n",
      "metadata": {
        "trusted": true
      },
      "outputs": [],
      "execution_count": null
    },
    {
      "id": "b0881a42-b5ab-4275-b579-1153889eff2f",
      "cell_type": "code",
      "source": "# 11. How do you structure a Flask app using Blueprints?\n\nfrom flask import Flask\n\ndef create_app():\n    app = Flask(__name__)\n\n    from app.routes.home import home_bp\n    from app.routes.user import user_bp\n\n    app.register_blueprint(home_bp)\n    app.register_blueprint(user_bp, url_prefix='/user')\n\n    return app\n",
      "metadata": {
        "trusted": true
      },
      "outputs": [],
      "execution_count": null
    },
    {
      "id": "9a2281ff-4331-48d6-b62e-3247b41cf5eb",
      "cell_type": "code",
      "source": "# 12. How do you define a custom Jinja filter in Flask?\n\nfrom flask import Flask, render_template\n\napp = Flask(__name__)\n\ndef title_case(value):\n    return ' '.join(word.capitalize() for word in value.split())\n\napp.jinja_env.filters['title_case'] = title_case\n\n@app.route('/')\ndef home():\n    text = \"hello flask jinja filters!\"\n    return render_template('home.html', text=text)\n\nif __name__ == '__main__':\n    app.run(debug=True)\n",
      "metadata": {
        "trusted": true
      },
      "outputs": [],
      "execution_count": null
    },
    {
      "id": "6d243459-cc92-439e-852d-6fc7cf2f4fa6",
      "cell_type": "code",
      "source": "# 13. How can you redirect with query parameters in Flask?\n\nfrom flask import Flask, redirect, url_for, request\n\napp = Flask(__name__)\n\n@app.route('/')\ndef home():\n    return \"Welcome to the Home Page! <a href='/login?username=John'>Login</a>\"\n\n@app.route('/login')\ndef login():\n    username = request.args.get('username', 'Guest')\n    return redirect(url_for('dashboard', user=username))\n\n@app.route('/dashboard')\ndef dashboard():\n    user = request.args.get('user', 'Guest')\n    return f\"Welcome to the Dashboard, {user}!\"\n\nif __name__ == '__main__':\n    app.run(debug=True)\n",
      "metadata": {
        "trusted": true
      },
      "outputs": [],
      "execution_count": null
    },
    {
      "id": "6a5335c4-d29d-48db-bf92-3f46521e56c2",
      "cell_type": "code",
      "source": "# 14. How do you return JSON responses in Flask?\n\nfrom flask import Flask, jsonify\n\napp = Flask(__name__)\n\n@app.route('/api/data')\ndef get_data():\n    response = {\"message\": \"Hello, Flask!\", \"status\": \"success\"}\n    return jsonify(response)\n\nif __name__ == '__main__':\n    app.run(debug=True)\n",
      "metadata": {
        "trusted": true
      },
      "outputs": [],
      "execution_count": null
    },
    {
      "id": "a58955f0-677b-4d6a-9409-4206ee0f4a22",
      "cell_type": "code",
      "source": "# 15. How do you capture URL parameters in Flask?\n\nfrom flask import Flask, request\n\napp = Flask(__name__)\n\n@app.route('/user/<username>')  \ndef show_user(username):\n    return f'Hello, {username}!'\n\n@app.route('/post/<int:post_id>')  \ndef show_post(post_id):\n    return f'Post ID: {post_id}'\n\n@app.route('/search')\ndef search():\n    query = request.args.get('q')\n    return f'Search query: {query}'\n\n@app.route('/filter')\ndef filter_results():\n    category = request.args.get('category', 'default')\n    price = request.args.get('price')\n    return f'Category: {category}, Price: {price}'\n\n@app.route('/params')\ndef params():\n    all_params = request.args.to_dict()\n    return f'Parameters: {all_params}'\n\nif __name__ == '__main__':\n    app.run(debug=True)\n",
      "metadata": {
        "trusted": true
      },
      "outputs": [],
      "execution_count": null
    }
  ]
}